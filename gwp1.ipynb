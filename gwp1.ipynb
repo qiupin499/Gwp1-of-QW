{
 "cells": [
  {
   "cell_type": "markdown",
   "id": "58eb9898-c181-463e-bde1-8798d8d72b9b",
   "metadata": {},
   "source": [
    " ### Task 1\n",
    " ## 1.structured data"
   ]
  },
  {
   "cell_type": "code",
   "execution_count": null,
   "id": "b8f059e3-f5b7-42ab-ac45-37406a22cf6b",
   "metadata": {},
   "outputs": [],
   "source": [
    "ID\tclass\tname\tcourse\tscore\n",
    "1372557\tA\tJohn\tmath\t72\n",
    "1425474\tC\tBen\tmath\t85.0 \n",
    "1372558\ta\tJohn\tmath\t72\n",
    "1325390\tA\tAnna\tmathematics\t76\n",
    "1492872\tB\tMark\tmath\t633"
   ]
  },
  {
   "cell_type": "markdown",
   "id": "90e8dbd1-3e06-407d-82ab-bbd569e39b5c",
   "metadata": {},
   "source": [
    "Here is an example of poor quality structured data. Though it has only 5 samples, there are a lot of problems.  \n",
    "1.Two samples are duplicated, where the data both indicate John's math scores.  \n",
    "2.The second sample of John, his class is wrongly written 'a'.  \n",
    "3.Anna's course is wrongly written 'mathematics', while others are 'math'.  \n",
    "4.Ben's math score is kept to one decimal place, which is inconsistent with other data.  \n",
    "5.Mark's math score is far more than 100, which seems to be recorded incorrectly."
   ]
  },
  {
   "cell_type": "markdown",
   "id": "6115cbb8-a3b6-40dc-b318-3ee228662108",
   "metadata": {},
   "source": [
    "For a good structured data, it should be processed as some tables. These tables should meet with the three normal form of database (1NF, 2NF, 3NF). For example, the primary key in a table needs to be unique, while the foreign key needs to point to the primary key of another table. Each feature in the table needs to be specified the data type (such as: int、string）."
   ]
  },
  {
   "cell_type": "markdown",
   "id": "6d813a72-977f-4529-9c3a-1e406af885ac",
   "metadata": {},
   "source": [
    "## 2.unstructured data"
   ]
  },
  {
   "cell_type": "markdown",
   "id": "e2ef2116-ac82-457b-a28c-09cf34354a72",
   "metadata": {},
   "source": [
    "┻┳|  \n",
    "┳┻| _  \n",
    "┻┳| •.•) Rockstar, Are The Hackers Gone?  \n",
    "┳┻|⊂ﾉ  \n",
    "┻┳|  \n",
    "/﹋\\  \n",
    "(҂`_´) -AH HELL NO! GO BACK INSIDE!  \n",
    "<,︻╦╤─ ҉  \n",
    "/﹋\\﻿  \n",
    "  \n",
    "https://steamcommunity.com/id/BrownShuggah/recommended/271590/"
   ]
  },
  {
   "cell_type": "markdown",
   "id": "6f1ba705-6966-4e2d-80ca-3c8df6cbf2c7",
   "metadata": {},
   "source": [
    "This is an example of poor quality unstructured data from Steam's game commons. From this character painting, We can easily see that a man is poking his head out of the wall and another man is shooting fiercely. They are talking about *Rockstar* which is the company made game *GTA5* (Grand Theft Auto V). If you are not familiar with this game, you have no idea what they are talking about. When we are prepare to do NLP, this will be even worse. Because computer is hard to read these characters and know its meaning. "
   ]
  },
  {
   "cell_type": "markdown",
   "id": "b2c743de-a51f-472c-8183-81bc3e71f5cd",
   "metadata": {},
   "source": [
    "A good non-structure data need to include the information that we want to know. For example, A document for sentiment analysis should contain sentiment tendency words (such as: good、nice、bad、worse). These data should also be easily analyzed by automated programs. If a comment using ‘gooood’ ‘niccce’ instead of normal words, which is difficult to be processed."
   ]
  }
 ],
 "metadata": {
  "kernelspec": {
   "display_name": "Python 3 (ipykernel)",
   "language": "python",
   "name": "python3"
  },
  "language_info": {
   "codemirror_mode": {
    "name": "ipython",
    "version": 3
   },
   "file_extension": ".py",
   "mimetype": "text/x-python",
   "name": "python",
   "nbconvert_exporter": "python",
   "pygments_lexer": "ipython3",
   "version": "3.11.0"
  }
 },
 "nbformat": 4,
 "nbformat_minor": 5
}

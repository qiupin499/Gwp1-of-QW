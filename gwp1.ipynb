{
 "cells": [
  {
   "cell_type": "markdown",
   "id": "58eb9898-c181-463e-bde1-8798d8d72b9b",
   "metadata": {},
   "source": [
    " ### Task 1: Data Quality\n",
    " ## 1.structured data"
   ]
  },
  {
   "cell_type": "code",
   "execution_count": null,
   "id": "b8f059e3-f5b7-42ab-ac45-37406a22cf6b",
   "metadata": {},
   "outputs": [],
   "source": [
    "ID\tclass\tname\tcourse\tscore\n",
    "1372557\tA\tJohn\tmath\t72\n",
    "1425474\tC\tBen\tmath\t85.0 \n",
    "1372558\ta\tJohn\tmath\t72\n",
    "1325390\tA\tAnna\tmathematics\t76\n",
    "1492872\tB\tMark\tmath\t633"
   ]
  },
  {
   "cell_type": "markdown",
   "id": "90e8dbd1-3e06-407d-82ab-bbd569e39b5c",
   "metadata": {},
   "source": [
    "Here is an example of poor quality structured data. Though it has only 5 samples, there are a lot of problems.  \n",
    "1.Two samples are duplicated, where the data both indicate John's math scores.  \n",
    "2.The second sample of John, his class is wrongly written 'a'.  \n",
    "3.Anna's course is wrongly written 'mathematics', while others are 'math'.  \n",
    "4.Ben's math score is kept to one decimal place, which is inconsistent with other data.  \n",
    "5.Mark's math score is far more than 100, which seems to be recorded incorrectly."
   ]
  },
  {
   "cell_type": "markdown",
   "id": "6115cbb8-a3b6-40dc-b318-3ee228662108",
   "metadata": {},
   "source": [
    "For a good structured data, it should be processed as some tables. These tables should meet with the three normal form of database (1NF, 2NF, 3NF). For example, the primary key in a table needs to be unique, while the foreign key needs to point to the primary key of another table. Each feature in the table needs to be specified the data type (such as: int、string）."
   ]
  },
  {
   "cell_type": "markdown",
   "id": "6d813a72-977f-4529-9c3a-1e406af885ac",
   "metadata": {},
   "source": [
    "## 2.unstructured data"
   ]
  },
  {
   "cell_type": "markdown",
   "id": "e2ef2116-ac82-457b-a28c-09cf34354a72",
   "metadata": {},
   "source": [
    "┻┳|  \n",
    "┳┻| _  \n",
    "┻┳| •.•) Rockstar, Are The Hackers Gone?  \n",
    "┳┻|⊂ﾉ  \n",
    "┻┳|  \n",
    "/﹋\\  \n",
    "(҂`_´) -AH HELL NO! GO BACK INSIDE!  \n",
    "<,︻╦╤─ ҉  \n",
    "/﹋\\﻿  \n",
    "  \n",
    "https://steamcommunity.com/id/BrownShuggah/recommended/271590/"
   ]
  },
  {
   "cell_type": "markdown",
   "id": "6f1ba705-6966-4e2d-80ca-3c8df6cbf2c7",
   "metadata": {},
   "source": [
    "This is an example of poor quality unstructured data from Steam's game commons. From this character painting, We can easily see that a man is poking his head out of the wall and another man is shooting fiercely. They are talking about *Rockstar* which is the company made game *GTA5* (Grand Theft Auto V). If you are not familiar with this game, you have no idea what they are talking about. When we are prepare to do NLP, this will be even worse. Because computer is hard to read these characters and know its meaning. "
   ]
  },
  {
   "cell_type": "markdown",
   "id": "b2c743de-a51f-472c-8183-81bc3e71f5cd",
   "metadata": {},
   "source": [
    "A good non-structure data need to include the information that we want to know. For example, A document for sentiment analysis should contain sentiment tendency words (such as: good、nice、bad、worse). These data should also be easily analyzed by automated programs. If a comment using ‘gooood’ ‘niccce’ instead of normal words, which is difficult to be processed."
   ]
  },
  {
   "cell_type": "markdown",
   "id": "9f7ed7e8",
   "metadata": {},
   "source": [
    " ### Task 2: Yield Curve Modeling\n",
    " ## 1.data processing"
   ]
  },
  {
   "cell_type": "code",
   "execution_count": 1,
   "id": "b07bbee8",
   "metadata": {},
   "outputs": [],
   "source": [
    "# Loading libraries\n",
    "import pandas as pd\n",
    "import numpy as np\n",
    "from nelson_siegel_svensson.calibrate import calibrate_ns_ols\n",
    "import matplotlib.pyplot as plt\n",
    "import seaborn as sns\n",
    "sns.set()"
   ]
  },
  {
   "cell_type": "code",
   "execution_count": 4,
   "id": "93e101c7",
   "metadata": {},
   "outputs": [
    {
     "name": "stdout",
     "output_type": "stream",
     "text": [
      "                    曲线名称          日期      3月      6月      1年      3年      5年  \\\n",
      "0      中债中短期票据收益率曲线(AAA)  2021-02-01  3.2000  3.2000  3.2441  3.6556  3.8008   \n",
      "1    中债商业银行普通债收益率曲线(AAA)  2021-02-01  3.1085  3.0780  3.0708  3.4459  3.6463   \n",
      "2              中债国债收益率曲线  2021-02-01  2.4501  2.4235  2.6043  2.8464  2.9899   \n",
      "3              中债国债收益率曲线  2021-02-02  2.4001  2.4001  2.6227  2.8669  3.0102   \n",
      "4      中债中短期票据收益率曲线(AAA)  2021-02-02  3.0242  3.1250  3.1934  3.6424  3.8127   \n",
      "..                   ...         ...     ...     ...     ...     ...     ...   \n",
      "748  中债商业银行普通债收益率曲线(AAA)  2022-01-29  2.3008  2.4055  2.4566  2.6766  3.0401   \n",
      "749            中债国债收益率曲线  2022-01-29  1.7876  1.8941  1.9512  2.2327  2.3682   \n",
      "750    中债中短期票据收益率曲线(AAA)  2022-01-30  2.4486  2.4786  2.4883  2.7475  3.1677   \n",
      "751  中债商业银行普通债收益率曲线(AAA)  2022-01-30  2.2908  2.4036  2.4566  2.6630  3.0265   \n",
      "752            中债国债收益率曲线  2022-01-30  1.7756  1.8882  1.9514  2.2318  2.3634   \n",
      "\n",
      "         7年     10年     30年  \n",
      "0    3.9929  4.1465     NaN  \n",
      "1    3.8172  3.9554  4.5813  \n",
      "2    3.1725  3.1712  3.7342  \n",
      "3    3.1829  3.1862  3.7415  \n",
      "4    3.9707  4.1243     NaN  \n",
      "..      ...     ...     ...  \n",
      "748  3.3258  3.4677  3.8345  \n",
      "749  2.6521  2.7013  3.2750  \n",
      "750  3.4477  3.6091     NaN  \n",
      "751  3.3122  3.4541  3.8209  \n",
      "752  2.6555  2.6997  3.2718  \n",
      "\n",
      "[753 rows x 10 columns]\n"
     ]
    },
    {
     "name": "stderr",
     "output_type": "stream",
     "text": [
      "C:\\Users\\85346\\AppData\\Local\\Temp\\ipykernel_13076\\3897120833.py:10: SettingWithCopyWarning: \n",
      "A value is trying to be set on a copy of a slice from a DataFrame\n",
      "\n",
      "See the caveats in the documentation: https://pandas.pydata.org/pandas-docs/stable/user_guide/indexing.html#returning-a-view-versus-a-copy\n",
      "  yields.drop(columns=['曲线名称'], inplace=True)  # Delete name column\n"
     ]
    },
    {
     "data": {
      "text/plain": [
       "3 Month    2.3201\n",
       "6 Month    2.3545\n",
       "1 Year     2.2767\n",
       "3 Year     2.5956\n",
       "5 Year     2.7236\n",
       "7 Year     2.8723\n",
       "10 Year    2.8426\n",
       "30 Year    3.3747\n",
       "Name: 2021-12-10 00:00:00, dtype: float64"
      ]
     },
     "execution_count": 4,
     "metadata": {},
     "output_type": "execute_result"
    }
   ],
   "source": [
    "# Download China treasury bonds yield data from AKShare\n",
    "import akshare as ak\n",
    "bond_china_yield_df = ak.bond_china_yield(start_date=\"20210201\", end_date=\"20220201\")\n",
    "print(bond_china_yield_df)\n",
    "yields = bond_china_yield_df[bond_china_yield_df['曲线名称'] == '中债国债收益率曲线'] # We only need Yield curve of China National Debt.\n",
    "\n",
    "# Data preprocessing  \n",
    "yields.set_index('日期', inplace=True)  \n",
    "yields.index = pd.to_datetime(yields.index) # Turn the index to time format\n",
    "yields.drop(columns=['曲线名称'], inplace=True)  # Delete name column\n",
    "yields.columns = ['3 Month', '6 Month', '1 Year', '3 Year', '5 Year', '7 Year', '10 Year', '30 Year'] # Rename columns for clarity\n",
    "yields.loc['2021-12-10'] # Now we only focus on date '2021-12-10'"
   ]
  },
  {
   "cell_type": "markdown",
   "id": "6bdcd54c",
   "metadata": {},
   "source": [
    "AKShare  https://akshare.akfamily.xyz/data/bond/bond.html"
   ]
  },
  {
   "cell_type": "markdown",
   "id": "f87dc1da",
   "metadata": {},
   "source": [
    "Akshare is a financial data interface library based on python. It insists on providing open source financial data, mainly about the Chinese market. Here we use its api for loading China treasury bonds yield data. We adjust the data format to make the same as the examples in M1L3 Lesson Notes. We can see that in this data, China treasury bonds has a range of maturities, but no '1 Month' and '2 Year'. "
   ]
  },
  {
   "cell_type": "markdown",
   "id": "3b2085e7",
   "metadata": {},
   "source": [
    " ## 2.Nelson-Siegel model"
   ]
  },
  {
   "cell_type": "code",
   "execution_count": 5,
   "id": "09fb9f8e",
   "metadata": {},
   "outputs": [
    {
     "name": "stdout",
     "output_type": "stream",
     "text": [
      "NelsonSiegelCurve(beta0=3.658740965277316, beta1=-1.3817167750371386, beta2=-0.004367314632396202, tau=6.571965333147492)\n"
     ]
    },
    {
     "data": {
      "image/png": "[encoded data removed]",
      "text/plain": [
       "<Figure size 640x480 with 1 Axes>"
      ]
     },
     "metadata": {},
     "output_type": "display_data"
    }
   ],
   "source": [
    "# Create maturity and yield variables in array form\n",
    "t = np.array([0.25,0.5,1,3,5,7,10,30]) # 0.25 year is 3 months and 0.5 year is 6 months\n",
    "y = np.array(yields.loc[\"2021-12-10\"])\n",
    "# Fit an NS model for yields from 2021-12-10\n",
    "curve, status = calibrate_ns_ols(t, y, tau0=1)  # Select parameter tau0 equal 1\n",
    "assert status.success # Check if the status is successful\n",
    "print(curve)\n",
    "# Draw yield curve using NS model\n",
    "y_hat = curve\n",
    "t_hat = np.linspace(0.5,30,100) # The x-axis range from 0.5 to 300 and are divided into 100 points\n",
    "plt.plot(t_hat, y_hat(t_hat)) # y_hat(t_hat) is the estimated value of NS model at these 100 points\n",
    "plt.scatter(t, y, c=\"red\") # The red dot is the true points\n",
    "plt.xlabel(\"Maturity\")\n",
    "plt.ylabel(\"Yield\")\n",
    "plt.title(\"Figure 1, NS Model Result\")\n",
    "plt.show()"
   ]
  },
  {
   "cell_type": "markdown",
   "id": "d84e3e34",
   "metadata": {},
   "source": [
    "In Nelson-Siegel model, Tau0 is the attenuation rate between 0-1. The larger the tau0, the smoother the curve, and the smaller the tau0, the more like a skewed peak. Here we let tau0 equal 1. From Figure 1, we can see that the yield curve is a smooth curve of gradually decline in growth rate. Actually, even if parameter tau0 equals 0.5, the curve shape shows almost the same, unless it drops to 0."
   ]
  },
  {
   "cell_type": "markdown",
   "id": "71f10775",
   "metadata": {},
   "source": [
    "## 3.Cubic-Spline model"
   ]
  },
  {
   "cell_type": "markdown",
   "id": "a82926e0",
   "metadata": {},
   "source": [
    "We using the same way as M1L3 Lesson Notes to solve the equation set. Because the data has no '2 Year' maturity, we use '1 Year' instead of it.\n",
    "<br>\n",
    "$$f\\left( x \\right)=a_{1}x^{3}+b_{1}x^{2}+c_{1}x+d_{1}, \\text{when }1\\le x\\le 5$$\n",
    "$$f\\left( x \\right)=a_{2}x^{3}+b_{2}x^{2}+c_{2}x+d_{2}, \\text{when }5\\le x\\le 10$$\n",
    "$$f\\left( x \\right)=a_{3}x^{3}+b_{3}x^{2}+c_{3}x+d_{3}, \\text{when }10\\le x\\le 30$$\n",
    "<br>\n",
    "Solving this equation set, we get 12 equations just like below. Actually, if we want to fit curves based on more maturities, we can list more equations to solve multistages curves. But here we just use 4 maturities for simplicity.\n",
    "<br>\n",
    "$$a_{1}(1)^{3}+b_{1}(1)^{2}+c_{1}(1)+d_{1}=2.2767\\;\\;\\;(1)$$\n",
    "$$a_{1}(5)^{3}+b_{1}(5)^{2}+c_{1}(5)+d_{1}=2.7236\\;\\;\\;(2)$$\n",
    "$$a_{2}(5)^{3}+b_{2}(5)^{2}+c_{2}(5)+d_{2}=2.7236\\;\\;\\;(3)$$\n",
    "$$a_{2}(10)^{3}+b_{2}(10)^{2}+c_{2}(10)+d_{2}=2.8426\\;\\;\\;(4)$$\n",
    "$$a_{3}(10)^{3}+b_{3}(10)^{2}+c_{3}(10)+d_{3}=2.8426\\;\\;\\;(5)$$\n",
    "$$a_{3}(30)^{3}+b_{3}(30)^{2}+c_{3}(30)+d_{3}=3.3747\\;\\;\\;(6)$$\n",
    "$$3a_{1}(5)^{2}+2b_{1}(5)+c_{1}=3a_{2}(5)^{2}+2b_{2}(5)+c_{2}\\;\\;\\;(7)$$\n",
    "$$3a_{2}(10)^{2}+2b_{2}(10)+c_{2}=3a_{3}(10)^{2}+2b_{3}(10)+c_{3}\\;\\;\\;(8)$$\n",
    "$$6a_{1}(5)+2b_{1}=6a_{2}(5)+2b_{2}\\;\\;\\;(9)$$\n",
    "$$6a_{2}(10)+2b_{2}=6a_{3}(10)+2b_{3}\\;\\;\\;(10)$$\n",
    "$$6a_{1}(1)+2b_{1}=0\\;\\;\\;(11)$$\n",
    "$$6a_{3}(30)+2b_{3}=0\\;\\;\\;(12)$$\n",
    "<br>\n",
    "<br>\n",
    "$$\\begin{bmatrix}\n",
    "1 & 1 & 1 & 1 & 0 & 0 & 0 & 0 & 0 & 0 & 0 & 0 \\\\\n",
    "125 & 25 & 5 & 1 & 0 & 0 & 0 & 0 & 0 & 0 & 0 & 0 \\\\\n",
    " 0 & 0 & 0 & 0 & 125 & 25 & 5 & 1 & 0 & 0 & 0 & 0 \\\\\n",
    " 0 & 0 & 0 & 0 & 1000 & 100 & 10 & 1 & 0 & 0 & 0 & 0 \\\\\n",
    " 0 & 0 & 0 & 0 & 0 & 0 & 0 & 0 & 1000 & 100 & 10 & 1 \\\\\n",
    " 0 & 0 & 0 & 0 & 0 & 0 & 0 & 0 & 27000 & 900 & 30 & 1 \\\\\n",
    " 75 & 10 & 1 & 0 & -75 & -10 & -1 & 0 & 0 & 0 & 0 & 0 \\\\\n",
    " 0 & 0 & 0 & 0 & 300 & 20 & 1 & 0 & -300 & -20 & -1 & 0 \\\\\n",
    " 30 & 2 & 0 & 0 & -30 & -2 & 0 & 0 & 0 & 0 & 0 & 0 \\\\\n",
    " 0 & 0 & 0 & 0 & 60 & 2 & 0 & 0 & -60 & -2 & 0 & 0 \\\\\n",
    " 6 & 2 & 0 & 0 & 0 & 0 & 0 & 0 & 0 & 0 & 0 & 0 \\\\\n",
    " 0 & 0 & 0 & 0 & 0 & 0 & 0 & 0 & 180 & 2 & 0 & 0\n",
    "\\end{bmatrix}\\bullet\\begin{bmatrix}\n",
    "a_{1} \\\\\n",
    "b_{1} \\\\\n",
    "c_{1} \\\\\n",
    "d_{1} \\\\\n",
    "a_{2} \\\\\n",
    "b_{2} \\\\\n",
    "c_{2} \\\\\n",
    "d_{2} \\\\\n",
    "a_{3} \\\\\n",
    "b_{3} \\\\\n",
    "c_{3} \\\\\n",
    "d_{3}\n",
    "\\end{bmatrix}=\\begin{bmatrix}\n",
    "2.2767 \\\\\n",
    "2.7236 \\\\\n",
    "2.7236 \\\\\n",
    "2.8426 \\\\\n",
    "2.8426 \\\\\n",
    "3.3747 \\\\\n",
    "0 \\\\\n",
    "0 \\\\\n",
    "0 \\\\\n",
    "0 \\\\\n",
    "0 \\\\\n",
    "0\n",
    "\\end{bmatrix}$$\n",
    "<br>"
   ]
  },
  {
   "cell_type": "code",
   "execution_count": 6,
   "id": "9f52b53c",
   "metadata": {},
   "outputs": [],
   "source": [
    "# Get the parameters of Cubic-Spline model\n",
    "yields.loc[\"2021-12-10\"] # Check the yields on \"2021-12-10\"\n",
    "t = np.array([1,5,10,30])\n",
    "y = np.array([yields.loc[\"2021-12-10\",'1 Year'], yields.loc[\"2021-12-10\",'5 Year'], \n",
    "              yields.loc[\"2021-12-10\",'10 Year'], yields.loc[\"2021-12-10\",'30 Year']])\n",
    "# Solving equations in matrix form\n",
    "out = np.array([yields.loc[\"2021-12-10\",'1 Year'], yields.loc[\"2021-12-10\",'5 Year'],\n",
    "                yields.loc[\"2021-12-10\",'5 Year'], yields.loc[\"2021-12-10\",'10 Year'],\n",
    "                yields.loc[\"2021-12-10\",'10 Year'], yields.loc[\"2021-12-10\",'30 Year'], \n",
    "                0, 0, 0, 0, 0, 0])\n",
    "input = np.array([[1,1,1,1,0,0,0,0,0,0,0,0],\n",
    "                  [125,25,5,1,0,0,0,0,0,0,0,0],\n",
    "                  [0,0,0,0,125,25,5,1,0,0,0,0],\n",
    "                  [0,0,0,0,1000,100,10,1,0,0,0,0], \n",
    "                  [0,0,0,0,0,0,0,0,1000,100,10,1],\n",
    "                  [0,0,0,0,0,0,0,0,27000,900,30,1],\n",
    "                  [75,10,1,0,-75,-10,-1,0,0,0,0,0],\n",
    "                  [0,0,0,0,300,20,1,0,-300,-20,-1,0], \n",
    "                  [30,2,0,0,-30,-2,0,0,0,0,0,0],\n",
    "                  [0,0,0,0,60,2,0,0,-60,-2,0,0],\n",
    "                  [6,2,0,0,0,0,0,0,0,0,0,0],\n",
    "                  [0,0,0,0,0,0,0,0,180,2,0,0]])\n",
    "lines = np.round(np.dot(np.linalg.inv(input), out).reshape(-1,4),decimals=8)\n",
    "lines # get the parameters\n",
    "# Define a function to calculate estimates on points\n",
    "def plot_num(values, coeffs):\n",
    "    # Coeffs are assumed to be in order 0, 1, ..., n-1\n",
    "    expanded = np.hstack([coeffs[i] * (values ** i) for i in range(0, len(coeffs))])\n",
    "    return np.sum(expanded, axis=1)"
   ]
  },
  {
   "cell_type": "code",
   "execution_count": 7,
   "id": "20eb20c7",
   "metadata": {},
   "outputs": [
    {
     "data": {
      "image/png": "[encoded data removed]",
      "text/plain": [
       "<Figure size 640x480 with 1 Axes>"
      ]
     },
     "metadata": {},
     "output_type": "display_data"
    }
   ],
   "source": [
    "# Draw yield curve using Cubic-Spline model\n",
    "xs = np.linspace(0.5, 30, 100) # The x-axis range from 0.5 to 300 and are divided into 100 points\n",
    "y1s = plot_num(xs[xs<5].reshape(-1,1), lines[0][::-1]) # Use the first spline when t is less than 5\n",
    "y2s = plot_num(xs[(xs>=5) & (xs<10)].reshape(-1,1), lines[1][::-1]) # Use the second spline when t is more than 5 and less than 10\n",
    "y3s = plot_num(xs[xs>=10].reshape(-1,1), lines[2][::-1]) # Use the third spline when t is more than 10\n",
    "ys = np.concatenate([y1s, y2s, y3s])\n",
    "plt.plot(xs, ys)\n",
    "plt.scatter(t, y, c=\"red\") # The red dot is the true points\n",
    "plt.xlabel(\"Maturity\")\n",
    "plt.ylabel(\"Yield\")\n",
    "plt.title(\"Figure 2\")\n",
    "plt.show()"
   ]
  },
  {
   "cell_type": "markdown",
   "id": "8153b799",
   "metadata": {},
   "source": [
    "From the yield curve of Cubic-Spline model, we can see that the curve is accurately passing all the ture points. In terms of fitting degree, Cubic-Spline model seems to fit better than Cubic-Spline model. The curve shows an approximately concave increasing curve. Because the increase rate of '10 Year' treasury bond is less than '5 Year' and '30 Year'. "
   ]
  },
  {
   "cell_type": "markdown",
   "id": "31726cf1",
   "metadata": {},
   "source": [
    "Compared with the Cubic-Spline model, the curve of NS model is smoother and monotone, which means that with the growth of maturity, the yield will gradually increase. This is generally in line with reality, because long-term bonds have greater risks and should have higher yields than short-term bonds."
   ]
  }
 ],
 "metadata": {
  "kernelspec": {
   "display_name": "Python 3 (ipykernel)",
   "language": "python",
   "name": "python3"
  },
  "language_info": {
   "codemirror_mode": {
    "name": "ipython",
    "version": 3
   },
   "file_extension": ".py",
   "mimetype": "text/x-python",
   "name": "python",
   "nbconvert_exporter": "python",
   "pygments_lexer": "ipython3",
   "version": "3.12.7"
  }
 },
 "nbformat": 4,
 "nbformat_minor": 5
}
